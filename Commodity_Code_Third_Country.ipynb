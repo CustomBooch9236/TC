{
  "nbformat": 4,
  "nbformat_minor": 0,
  "metadata": {
    "colab": {
      "provenance": [],
      "authorship_tag": "ABX9TyNLGFOuLcy9t7NWFHEum8dO",
      "include_colab_link": true
    },
    "kernelspec": {
      "name": "python3",
      "display_name": "Python 3"
    },
    "language_info": {
      "name": "python"
    }
  },
  "cells": [
    {
      "cell_type": "markdown",
      "metadata": {
        "id": "view-in-github",
        "colab_type": "text"
      },
      "source": [
        "<a href=\"https://colab.research.google.com/github/CustomBooch9236/TC/blob/main/Commodity_Code_Third_Country.ipynb\" target=\"_parent\"><img src=\"https://colab.research.google.com/assets/colab-badge.svg\" alt=\"Open In Colab\"/></a>"
      ]
    },
    {
      "cell_type": "markdown",
      "source": [
        "Tariff Duty Rate - **Third Country**"
      ],
      "metadata": {
        "id": "gb46NR-pzF1H"
      }
    },
    {
      "cell_type": "code",
      "execution_count": 12,
      "metadata": {
        "id": "RCX8UMnOv3w5"
      },
      "outputs": [],
      "source": [
        "import requests\n",
        "from bs4 import BeautifulSoup"
      ]
    },
    {
      "cell_type": "code",
      "source": [
        "def get_third_country_duty(commodity_code: str) -> str:\n",
        "    url = f\"https://www.trade-tariff.service.gov.uk/commodities/{commodity_code}\"\n",
        "    response = requests.get(url)\n",
        "\n",
        "    if response.status_code != 200:\n",
        "        raise Exception(f\"Failed to fetch the page. Status code: {response.status_code}\")\n",
        "\n",
        "    soup = BeautifulSoup(response.text, \"html.parser\")\n",
        "\n",
        "    rows = soup.find_all(\"tr\", class_=\"govuk-table__row\")\n",
        "\n",
        "    for row in rows:\n",
        "        country_col = row.find(\"td\", class_=\"country-col\")\n",
        "        measure_type_col = row.find(\"td\", class_=\"measure-type-col\")\n",
        "\n",
        "        if country_col and measure_type_col:\n",
        "            if \"All countries (1011)\" in country_col.text and \"Third country duty\" in measure_type_col.text:\n",
        "                duty_rate_col = row.find(\"td\", class_=\"duty-rate-col\")\n",
        "                if duty_rate_col:\n",
        "                    duty = duty_rate_col.find(\"span\", class_=\"duty-expression\")\n",
        "                    if duty:\n",
        "                        return duty.text.strip()\n",
        "\n",
        "    return \"Third country duty not found\""
      ],
      "metadata": {
        "id": "p9OilO6hwDBP"
      },
      "execution_count": 13,
      "outputs": []
    },
    {
      "cell_type": "code",
      "source": [
        "commodity_code = input(\"Enter Commodity Code: \")\n",
        "duty = get_third_country_duty(commodity_code)\n",
        "print(f\"Third country duty for {commodity_code}: {duty}\")"
      ],
      "metadata": {
        "colab": {
          "base_uri": "https://localhost:8080/"
        },
        "id": "kjwdldPmwG4J",
        "outputId": "bc1ddbec-5131-43f4-a490-87d72589f961"
      },
      "execution_count": 14,
      "outputs": [
        {
          "output_type": "stream",
          "name": "stdout",
          "text": [
            "Enter Commodity Code: 8408205500\n",
            "Third country duty for 8408205500: 4.00%\n"
          ]
        }
      ]
    }
  ]
}